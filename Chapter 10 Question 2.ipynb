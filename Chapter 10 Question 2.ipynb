{
  "metadata": {
    "language_info": {
      "codemirror_mode": {
        "name": "python",
        "version": 3
      },
      "file_extension": ".py",
      "mimetype": "text/x-python",
      "name": "python",
      "nbconvert_exporter": "python",
      "pygments_lexer": "ipython3",
      "version": "3.8"
    },
    "kernelspec": {
      "name": "python",
      "display_name": "Python (Pyodide)",
      "language": "python"
    }
  },
  "nbformat_minor": 4,
  "nbformat": 4,
  "cells": [
    {
      "cell_type": "code",
      "source": "# Define the Personal Data Class for the code\nclass PersonalData:\n    # Initialize the instance variables in the __init__ method\n    def __init__(self, name, address, age, phone_number):\n        self.name = name\n        self.address = address\n        self.age = age\n        self.phone_number = phone_number\n\n    # Define accessor methods for each instance variable\n    def get_name(self):\n        return self.name\n\n    def get_address(self):\n        return self.address\n\n    def get_age(self):\n        return self.age\n\n    def get_phone_number(self):\n        return self.phone_number\n\n    # Define mutator methods for each instance variable\n    def set_name(self, name):\n        self.name = name\n\n    def set_address(self, address):\n        self.address = address\n\n    def set_age(self, age):\n        self.age = age\n\n    def set_phone_number(self, phone_number):\n        self.phone_number = phone_number\n\n\n# Create an instance used for me\nmy_data = PersonalData(\"My Name\", \"My Address\", 20, \"231-799-5540\")\n\n# Create an instance for my two friends \nfriend1_data = PersonalData(\"Friend1 Name\", \"Friend1 Address\", 30, \"234-567-8901\")\nfriend2_data = PersonalData(\"Friend2 Name\", \"Friend2 Address\", 35, \"345-678-9012\")\n\n# Next this code accesses and prints the data using the accessor methods\nprint(\"My name:\", my_data.get_name())\nprint(\"My address:\", my_data.get_address())\nprint(\"My age:\", my_data.get_age())\nprint(\"My phone number:\", my_data.get_phone_number())\n\nprint(\"Friend1 name:\", friend1_data.get_name())\nprint(\"Friend1 address:\", friend1_data.get_address())\nprint(\"Friend1 age:\", friend1_data.get_age())\nprint(\"Friend1 phone number:\", friend1_data.get_phone_number())\n\nprint(\"Friend2 name:\", friend2_data.get_name())\nprint(\"Friend2 address:\", friend2_data.get_address())\nprint(\"Friend2 age:\", friend2_data.get_age())\nprint(\"Friend2 phone number:\", friend2_data.get_phone_number())\n\n# Modify the data using the mutator methods\nmy_data.set_name(\"New Name\")\nmy_data.set_address(\"New Address\")\nmy_data.set_age(26)\nmy_data.set_phone_number(\"987-654-3210\")\n\n# Access and print the modified data using the accessor methods\nprint(\"My new name:\", my_data.get_name())\nprint(\"My new address:\", my_data.get_address())\nprint(\"My new age:\", my_data.get_age())\nprint(\"My new phone number:\", my_data.get_phone_number())",
      "metadata": {},
      "execution_count": null,
      "outputs": []
    }
  ]
}